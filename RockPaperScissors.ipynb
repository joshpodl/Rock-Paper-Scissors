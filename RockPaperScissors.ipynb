{
  "nbformat": 4,
  "nbformat_minor": 0,
  "metadata": {
    "colab": {
      "provenance": [],
      "authorship_tag": "ABX9TyPJwgnKBUk3wZlEHIHlzLWI",
      "include_colab_link": true
    },
    "kernelspec": {
      "name": "python3",
      "display_name": "Python 3"
    },
    "language_info": {
      "name": "python"
    }
  },
  "cells": [
    {
      "cell_type": "markdown",
      "metadata": {
        "id": "view-in-github",
        "colab_type": "text"
      },
      "source": [
        "<a href=\"https://colab.research.google.com/github/joshpodl/Rock-Paper-Scissors/blob/main/RockPaperScissors.ipynb\" target=\"_parent\"><img src=\"https://colab.research.google.com/assets/colab-badge.svg\" alt=\"Open In Colab\"/></a>"
      ]
    },
    {
      "cell_type": "code",
      "execution_count": null,
      "metadata": {
        "id": "ludwHpmNsz0-"
      },
      "outputs": [],
      "source": [
        "## message to receive player input\n",
        "p1_choice = input(\"Player 1, please choose rock, paper, or scissors: \")\n",
        "p2_choice = input(\"Player 2, please choose rock, paper, or scissors: \")\n",
        "\n",
        "## RPS function\n",
        "def rock_paper_scissors(p1, p2):\n",
        "  choices = [\"rock\", \"paper\", \"scissors\"]\n",
        "\n",
        "  ## if quit --> game over\n",
        "  if p1 == \"quit\" or p2 == \"quit\":\n",
        "    print(\"Thanks for playing!\")\n",
        "    return\n",
        "  ## if typo/choose unlisted option, reminder to pick one of three choices\n",
        "  if p1 not in choices:\n",
        "      print(\"Player 1, please choose rock, paper, or scissors.\")\n",
        "  if p2 not in choices:\n",
        "      print(\"Player 2, please choose rock, paper, or scissors.\")\n",
        "\n",
        "  ## elicit choices from players\n",
        "  while p1 not in choices or p2 not in choices:\n",
        "    p1 = input(\"Player 1, please choose rock, paper, or scissors: \")\n",
        "    p2 = input(\"Player 2, please choose rock, paper, or scissors: \")\n",
        "\n",
        "  ## tie --> message plus game reset\n",
        "  while p1==p2:\n",
        "    print(\"It's a tie! Try again!\")\n",
        "    p1 = input(\"Player 1, please choose rock, paper, or scissors: \")\n",
        "    p2 = input(\"Player 2, please choose rock, paper, or scissors: \")\n",
        "\n",
        "  ## winning scenarios\n",
        "  if p1==\"rock\" and p2==\"scissors\":\n",
        "    print(\"Player 1 wins!\")\n",
        "\n",
        "  elif p1==\"paper\" and p2==\"rock\":\n",
        "    print(\"Player 1 wins!\")\n",
        "\n",
        "  elif p1==\"scissors\" and p2==\"paper\":\n",
        "    print(\"Player 1 wins!\")\n",
        "\n",
        "  elif p1==\"scissors\" and p1==\"rock\":\n",
        "    print(\"Player 2 wins!\")\n",
        "\n",
        "  elif p1==\"rock\" and p2==\"paper\":\n",
        "    print(\"Player 2 wins!\")\n",
        "\n",
        "  elif p1==\"paper\" and p2==\"scissors\":\n",
        "    print(\"Player 2 wins!\")\n",
        "\n",
        "\n",
        "rock_paper_scissors(p1_choice, p2_choice)\n"
      ]
    }
  ]
}